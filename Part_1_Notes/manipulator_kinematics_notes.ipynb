{
 "cells": [
  {
   "cell_type": "markdown",
   "metadata": {},
   "source": [
    "# Notes on Manipulator Kinematics"
   ]
  },
  {
   "cell_type": "markdown",
   "metadata": {},
   "source": [
    "First you need to import numpy, the roboticstoolbox and a library called spatialmath as follows"
   ]
  },
  {
   "cell_type": "code",
   "execution_count": 2,
   "metadata": {},
   "outputs": [],
   "source": [
    "import numpy as np\n",
    "import roboticstoolbox as rtb\n",
    "import spatialmath as sm"
   ]
  },
  {
   "cell_type": "markdown",
   "metadata": {},
   "source": [
    "The next step is to start playing with the toolbox. Using the robotic Toolbox for Python we will create an ET. Lets try the following:\n",
    "* A varible rotation around the x-axis\n",
    "* A constant rotation around the x-axis by 90 degrees"
   ]
  },
  {
   "cell_type": "code",
   "execution_count": 3,
   "metadata": {},
   "outputs": [
    {
     "name": "stdout",
     "output_type": "stream",
     "text": [
      "The variable rotation around x is: Rx(q)\n",
      "The variable rotation around x has a type: <class 'roboticstoolbox.robot.ET.ET'>\n",
      "The constant rotation around x is: Rx(90°)\n",
      "The constant rotation around x has a type: <class 'roboticstoolbox.robot.ET.ET'>\n"
     ]
    }
   ],
   "source": [
    "# We are going to create a variable rotation about the x-axis\n",
    "rx_var = rtb.ET.Rx()\n",
    "\n",
    "# This is a constant rotation around the x-axis by 90 degrees\n",
    "rx_cons = rtb.ET.Rx(np.pi / 2) # See that we use radians, be careful with that\n",
    "\n",
    "# Let's print each of the ET's and the format they have when printing\n",
    "print(f\"The variable rotation around x is: {rx_var}\")\n",
    "print(f\"The variable rotation around x has a type: {type(rx_var)}\")\n",
    "print(f\"The constant rotation around x is: {rx_cons}\")\n",
    "print(f\"The constant rotation around x has a type: {type(rx_cons)}\")"
   ]
  },
  {
   "cell_type": "markdown",
   "metadata": {},
   "source": [
    "After creating a variable, we have to calculate the transformation. Ther are different things!\n",
    "We are going to do the following:\n",
    "* use the .A method to calculate the transformation for the CONSTANT rotation and see what it returns\n",
    "* Use the spatialmath package to create an SE3 array (also helps for visualization)\n",
    "As the type of a ET is in fact, a ET object in Python, the .A method is applied to this objects"
   ]
  },
  {
   "cell_type": "code",
   "execution_count": 4,
   "metadata": {},
   "outputs": [
    {
     "name": "stdout",
     "output_type": "stream",
     "text": [
      "The transformation shown as a numpy array is:\n",
      "[[ 1.000000e+00  0.000000e+00  0.000000e+00  0.000000e+00]\n",
      " [ 0.000000e+00  6.123234e-17 -1.000000e+00  0.000000e+00]\n",
      " [ 0.000000e+00  1.000000e+00  6.123234e-17  0.000000e+00]\n",
      " [ 0.000000e+00  0.000000e+00  0.000000e+00  1.000000e+00]]\n",
      "The transformation shown as a numpy array has a type: <class 'numpy.ndarray'>\n",
      "The transformation shown as a SE3 is:\n",
      "  \u001b[38;5;1m 1       \u001b[0m \u001b[38;5;1m 0       \u001b[0m \u001b[38;5;1m 0       \u001b[0m \u001b[38;5;4m 0       \u001b[0m  \u001b[0m\n",
      "  \u001b[38;5;1m 0       \u001b[0m \u001b[38;5;1m 0       \u001b[0m \u001b[38;5;1m-1       \u001b[0m \u001b[38;5;4m 0       \u001b[0m  \u001b[0m\n",
      "  \u001b[38;5;1m 0       \u001b[0m \u001b[38;5;1m 1       \u001b[0m \u001b[38;5;1m 0       \u001b[0m \u001b[38;5;4m 0       \u001b[0m  \u001b[0m\n",
      "  \u001b[38;5;244m 0       \u001b[0m \u001b[38;5;244m 0       \u001b[0m \u001b[38;5;244m 0       \u001b[0m \u001b[38;5;244m 1       \u001b[0m  \u001b[0m\n",
      "\n",
      "The transformation shown as a SE3 has a type: <class 'spatialmath.pose3d.SE3'>\n"
     ]
    }
   ],
   "source": [
    "# We are going to calculate the transform resulting from, the constant rotation ET using the .A method\n",
    "transform = rx_cons.A() # It should return a numpy array\n",
    "\n",
    "# Let's use the spatialmath package to create the SE3 object from the numpy array\n",
    "sm_transform = sm.SE3(transform)\n",
    "\n",
    "# Now print the results of each variable and see the benefits of spatialmath\n",
    "print(f\"The transformation shown as a numpy array is:\\n{transform}\")\n",
    "print(f\"The transformation shown as a numpy array has a type: {type(transform)}\")\n",
    "print(f\"The transformation shown as a SE3 is:\\n{sm_transform}\")\n",
    "print(f\"The transformation shown as a SE3 has a type: {type(sm_transform)}\")"
   ]
  },
  {
   "cell_type": "markdown",
   "metadata": {},
   "source": [
    "Now we are going to calculate the transform resulting from the variable rotation. For this, we must supply a joint coordinate when using the A. method. \n",
    "* Remember to supply a coordinate system for variable rotations (and translations)"
   ]
  },
  {
   "cell_type": "code",
   "execution_count": 5,
   "metadata": {},
   "outputs": [
    {
     "name": "stdout",
     "output_type": "stream",
     "text": [
      "The transformation shown as a numpy array is:\n",
      "[[ 1.          0.          0.          0.        ]\n",
      " [ 0.          0.70710678 -0.70710678  0.        ]\n",
      " [ 0.          0.70710678  0.70710678  0.        ]\n",
      " [ 0.          0.          0.          1.        ]]\n",
      "The transformation shown as a SE3 is:\n",
      "  \u001b[38;5;1m 1       \u001b[0m \u001b[38;5;1m 0       \u001b[0m \u001b[38;5;1m 0       \u001b[0m \u001b[38;5;4m 0       \u001b[0m  \u001b[0m\n",
      "  \u001b[38;5;1m 0       \u001b[0m \u001b[38;5;1m 0.7071  \u001b[0m \u001b[38;5;1m-0.7071  \u001b[0m \u001b[38;5;4m 0       \u001b[0m  \u001b[0m\n",
      "  \u001b[38;5;1m 0       \u001b[0m \u001b[38;5;1m 0.7071  \u001b[0m \u001b[38;5;1m 0.7071  \u001b[0m \u001b[38;5;4m 0       \u001b[0m  \u001b[0m\n",
      "  \u001b[38;5;244m 0       \u001b[0m \u001b[38;5;244m 0       \u001b[0m \u001b[38;5;244m 0       \u001b[0m \u001b[38;5;244m 1       \u001b[0m  \u001b[0m\n",
      "\n"
     ]
    }
   ],
   "source": [
    "# This is just for the example. We are going to make a joint at 45 degrees\n",
    "q = np.pi / 4\n",
    "transform = rx_var.A(q)\n",
    "sm_transform = sm.SE3(transform)\n",
    "\n",
    "# Now print the results of each variable and see the benefits of spatialmath\n",
    "print(f\"The transformation shown as a numpy array is:\\n{transform}\")\n",
    "print(f\"The transformation shown as a SE3 is:\\n{sm_transform}\")"
   ]
  },
  {
   "cell_type": "markdown",
   "metadata": {},
   "source": [
    "Check if the same results are obtained when creating a joint at 90 degrees and apply this to the variable rotation. The result has to be the same as the one for the constant rotation"
   ]
  },
  {
   "cell_type": "code",
   "execution_count": 6,
   "metadata": {},
   "outputs": [
    {
     "name": "stdout",
     "output_type": "stream",
     "text": [
      "The transformation shown as a numpy array is:\n",
      "[[ 1.000000e+00  0.000000e+00  0.000000e+00  0.000000e+00]\n",
      " [ 0.000000e+00  6.123234e-17 -1.000000e+00  0.000000e+00]\n",
      " [ 0.000000e+00  1.000000e+00  6.123234e-17  0.000000e+00]\n",
      " [ 0.000000e+00  0.000000e+00  0.000000e+00  1.000000e+00]]\n",
      "The transformation shown as a SE3 is:\n",
      "  \u001b[38;5;1m 1       \u001b[0m \u001b[38;5;1m 0       \u001b[0m \u001b[38;5;1m 0       \u001b[0m \u001b[38;5;4m 0       \u001b[0m  \u001b[0m\n",
      "  \u001b[38;5;1m 0       \u001b[0m \u001b[38;5;1m 0       \u001b[0m \u001b[38;5;1m-1       \u001b[0m \u001b[38;5;4m 0       \u001b[0m  \u001b[0m\n",
      "  \u001b[38;5;1m 0       \u001b[0m \u001b[38;5;1m 1       \u001b[0m \u001b[38;5;1m 0       \u001b[0m \u001b[38;5;4m 0       \u001b[0m  \u001b[0m\n",
      "  \u001b[38;5;244m 0       \u001b[0m \u001b[38;5;244m 0       \u001b[0m \u001b[38;5;244m 0       \u001b[0m \u001b[38;5;244m 1       \u001b[0m  \u001b[0m\n",
      "\n"
     ]
    }
   ],
   "source": [
    "# This is just for the example. We are going to make a joint at 45 degrees\n",
    "q = np.pi / 2\n",
    "transform = rx_var.A(q)\n",
    "sm_transform = sm.SE3(transform)\n",
    "\n",
    "# Now print the results of each variable and see the benefits of spatialmath\n",
    "print(f\"The transformation shown as a numpy array is:\\n{transform}\")\n",
    "print(f\"The transformation shown as a SE3 is:\\n{sm_transform}\")"
   ]
  },
  {
   "cell_type": "markdown",
   "metadata": {},
   "source": [
    "Now let's create a prismatic joint"
   ]
  },
  {
   "cell_type": "code",
   "execution_count": 7,
   "metadata": {},
   "outputs": [
    {
     "name": "stdout",
     "output_type": "stream",
     "text": [
      "ty(q)\n",
      "ty(0.25)\n"
     ]
    }
   ],
   "source": [
    "# Create a variable translation around the y-axis\n",
    "ty_var = rtb.ET.ty()\n",
    "\n",
    "# Create a constant translation along the y-axis by 25 cm\n",
    "ty_cons = rtb.ET.ty(0.25) # Hint: rtb uses meters as unit, be careful\n",
    "\n",
    "print(ty_var)\n",
    "print(ty_cons)"
   ]
  },
  {
   "cell_type": "markdown",
   "metadata": {},
   "source": [
    "Now calculate thre transformation. We will create both (it means numpy array and SE3 object), but we are just going to show the SE3 representation as it is easier to read"
   ]
  },
  {
   "cell_type": "code",
   "execution_count": 8,
   "metadata": {},
   "outputs": [
    {
     "name": "stdout",
     "output_type": "stream",
     "text": [
      "SE3:\n",
      "  \u001b[38;5;1m 1       \u001b[0m \u001b[38;5;1m 0       \u001b[0m \u001b[38;5;1m 0       \u001b[0m \u001b[38;5;4m 0       \u001b[0m  \u001b[0m\n",
      "  \u001b[38;5;1m 0       \u001b[0m \u001b[38;5;1m 1       \u001b[0m \u001b[38;5;1m 0       \u001b[0m \u001b[38;5;4m 0.25    \u001b[0m  \u001b[0m\n",
      "  \u001b[38;5;1m 0       \u001b[0m \u001b[38;5;1m 0       \u001b[0m \u001b[38;5;1m 1       \u001b[0m \u001b[38;5;4m 0       \u001b[0m  \u001b[0m\n",
      "  \u001b[38;5;244m 0       \u001b[0m \u001b[38;5;244m 0       \u001b[0m \u001b[38;5;244m 0       \u001b[0m \u001b[38;5;244m 1       \u001b[0m  \u001b[0m\n",
      "\n"
     ]
    }
   ],
   "source": [
    "# Calculate the transform for the constant translation.\n",
    "transform = ty_cons.A()\n",
    "sm_transform = sm.SE3(transform)\n",
    "\n",
    "print(f\"SE3:\\n{sm_transform}\")"
   ]
  },
  {
   "cell_type": "markdown",
   "metadata": {},
   "source": [
    "Now calculate the transformatio for the variable translation in y-axis. Remember to add the amount of translation you would like to achieve or define"
   ]
  },
  {
   "cell_type": "code",
   "execution_count": 9,
   "metadata": {},
   "outputs": [
    {
     "name": "stdout",
     "output_type": "stream",
     "text": [
      "SE3:\n",
      "  \u001b[38;5;1m 1       \u001b[0m \u001b[38;5;1m 0       \u001b[0m \u001b[38;5;1m 0       \u001b[0m \u001b[38;5;4m 0       \u001b[0m  \u001b[0m\n",
      "  \u001b[38;5;1m 0       \u001b[0m \u001b[38;5;1m 1       \u001b[0m \u001b[38;5;1m 0       \u001b[0m \u001b[38;5;4m 0.15    \u001b[0m  \u001b[0m\n",
      "  \u001b[38;5;1m 0       \u001b[0m \u001b[38;5;1m 0       \u001b[0m \u001b[38;5;1m 1       \u001b[0m \u001b[38;5;4m 0       \u001b[0m  \u001b[0m\n",
      "  \u001b[38;5;244m 0       \u001b[0m \u001b[38;5;244m 0       \u001b[0m \u001b[38;5;244m 0       \u001b[0m \u001b[38;5;244m 1       \u001b[0m  \u001b[0m\n",
      "\n"
     ]
    }
   ],
   "source": [
    "# Make the joint at 15 cm\n",
    "q = 0.15 # Remember it is in meters\n",
    "transform = ty_var.A(q)\n",
    "sm_transform = sm.SE3(transform)\n",
    "print(f\"SE3:\\n{sm_transform}\")"
   ]
  },
  {
   "cell_type": "markdown",
   "metadata": {},
   "source": [
    "*Refer to the schematic of the 7 DOF Franka Emika of the Peter's article to follow the next example*\n"
   ]
  },
  {
   "cell_type": "code",
   "execution_count": 10,
   "metadata": {},
   "outputs": [
    {
     "name": "stdout",
     "output_type": "stream",
     "text": [
      "tz(0.333) ⊕ Rz(q0) ⊕ Ry(q1)\n",
      "tz(0.333) ⊕ Rz(q0) ⊕ Ry(q1)\n",
      "tz(0.333) ⊕ Rz(q0) ⊕ Ry(q1) ⊕ tz(0.316)\n",
      "tz(0.333) ⊕ Rz(q0) ⊕ Ry(q1) ⊕ tz(0.316) ⊕ Rz(q0)\n"
     ]
    }
   ],
   "source": [
    "# Note for for E7 and E11 in the figure above and code below, we use flip=True\n",
    "# as the variable rotation is in the negative direction.\n",
    "\n",
    "E1 = rtb.ET.tz(0.333)\n",
    "E2 = rtb.ET.Rz()\n",
    "E3 = rtb.ET.Ry()\n",
    "E4 = rtb.ET.tz(0.316)\n",
    "E5 = rtb.ET.Rz()\n",
    "E6 = rtb.ET.tx(0.0825)\n",
    "E7 = rtb.ET.Ry(flip=True)\n",
    "E8 = rtb.ET.tx(-0.0825)\n",
    "E9 = rtb.ET.tz(0.384)\n",
    "E10 = rtb.ET.Rz()\n",
    "E11 = rtb.ET.Ry(flip=True)\n",
    "E12 = rtb.ET.tx(0.088)\n",
    "E13 = rtb.ET.Rx(np.pi)\n",
    "E14 = rtb.ET.tz(0.107)\n",
    "E15 = rtb.ET.Rz()\n",
    "\n",
    "# We can create and ETS in a number of ways\n",
    "\n",
    "# Firstly if we use the * operator between two or more ETs, we get an ETS\n",
    "ets1 = E1 * E2 * E3\n",
    "\n",
    "# Secondly, we can use the ETS constructor and pass in a list of ETs\n",
    "ets2 = rtb.ETS([E1, E2, E3])\n",
    "\n",
    "# We can also use the * operator between ETS' and ETs to concatenate\n",
    "ets3 = ets2 * E4\n",
    "ets4 = ets2 * rtb.ETS([E4, E5])\n",
    "\n",
    "print(ets1)\n",
    "print(ets2)\n",
    "print(ets3)\n",
    "print(ets4)\n"
   ]
  },
  {
   "cell_type": "markdown",
   "metadata": {},
   "source": [
    "After that example, let's represent the Panda robot by incorporatong all 15 ETS into a single ones"
   ]
  },
  {
   "cell_type": "code",
   "execution_count": 11,
   "metadata": {},
   "outputs": [
    {
     "name": "stdout",
     "output_type": "stream",
     "text": [
      "tz(0.333) ⊕ Rz(q0) ⊕ Ry(q1) ⊕ tz(0.316) ⊕ Rz(q2) ⊕ tx(0.0825) ⊕ Ry(-q3) ⊕ tx(-0.0825) ⊕ tz(0.384) ⊕ Rz(q4) ⊕ Ry(-q5) ⊕ tx(0.088) ⊕ Rx(180°) ⊕ tz(0.107) ⊕ Rz(q6)\n",
      "Are the 2 ETS the same (for the computer): True\n"
     ]
    }
   ],
   "source": [
    "panda = E1 * E2 * E3 * E4 * E5 * E6 * E7 * E8 * E9 * E10 * E11 * E12 * E13 * E14 * E15\n",
    "panda_ = rtb.ETS([E1, E2, E3, E4, E5, E6, E7, E8, E9, E10, E11, E12, E13, E14, E15])\n",
    "\n",
    "# Let's print hthe ETS\n",
    "print(panda)\n",
    "print(f\"Are the 2 ETS the same (for the computer): {panda==panda_}\")\n"
   ]
  },
  {
   "cell_type": "markdown",
   "metadata": {},
   "source": [
    "The ETS class has many usefull properties, lets check some of them"
   ]
  },
  {
   "cell_type": "code",
   "execution_count": 12,
   "metadata": {},
   "outputs": [
    {
     "name": "stdout",
     "output_type": "stream",
     "text": [
      "The panda has 7 joints\n",
      "The panda has 15 ETs\n",
      "The second ET in the ETS is Rz(q0)\n",
      "The second ET in the ETS is Rz(q), Are the same?: False\n"
     ]
    }
   ],
   "source": [
    "# Check the number of jonts in the panda model. ETS.n property\n",
    "print(f\"The panda has {panda.n} joints\")\n",
    "\n",
    "# Check the number of ETs in the panda model. ETS.m property\n",
    "print(f\"The panda has {panda.m} ETs\")\n",
    "\n",
    "# Let's access an ET from the ETS as if the ETS were a Python list\n",
    "print(f\"The second ET in the ETS is {panda[1]}\")\n",
    "\n",
    "# Let's check if E2 is the same as panda[1]\n",
    "print(f\"The second ET in the ETS is {rtb.ETS(E2)}, Are the same?: {panda[1]==rtb.ETS(E2)}\")\n",
    "\n"
   ]
  },
  {
   "cell_type": "code",
   "execution_count": 13,
   "metadata": {},
   "outputs": [
    {
     "name": "stdout",
     "output_type": "stream",
     "text": [
      "The first variable joint has a jindex of 0, while the second has a jindex of 1\n"
     ]
    }
   ],
   "source": [
    "# They are not the same because when a variable ET is added to an ETS, it is assigned a jindex, which is short for joint index. When given an array of joint coordinates (i.e. joint angles), the ETS will use the jindices of each\n",
    "print(f\"The first variable joint has a jindex of {panda[1].jindex}, while the second has a jindex of {panda[2].jindex}\")"
   ]
  },
  {
   "cell_type": "markdown",
   "metadata": {},
   "source": [
    "I have a question. Why the first variable joint is accesed with panda[1].jindex, should it start from 0?"
   ]
  },
  {
   "cell_type": "code",
   "execution_count": 14,
   "metadata": {},
   "outputs": [
    {
     "name": "stdout",
     "output_type": "stream",
     "text": [
      "All variable links in the Panda ETS:\n",
      "[ET.Rz(jindex=0), ET.Ry(jindex=1), ET.Rz(jindex=2), ET.Ry(jindex=3, flip=True), ET.Rz(jindex=4), ET.Ry(jindex=5, flip=True), ET.Rz(jindex=6)]\n",
      "The number of variable ETs is 7\n"
     ]
    }
   ],
   "source": [
    "# Other thing is that we can extract all of the variable ETs from the panda model as a list\n",
    "print(f\"All variable links in the Panda ETS:\\n{panda.joints()}\")\n",
    "print(f\"The number of variable ETs is {len(panda.joints())}\")"
   ]
  },
  {
   "cell_type": "markdown",
   "metadata": {},
   "source": [
    "<br>\n",
    "\n",
    "<a id='fk'></a>\n",
    "### 1.2 Forward Kinematics\n",
    "---"
   ]
  },
  {
   "cell_type": "markdown",
   "metadata": {},
   "source": [
    "Using the methodology described in the article, we can calculate the forward kinematics of the panda model"
   ]
  },
  {
   "cell_type": "code",
   "execution_count": 15,
   "metadata": {},
   "outputs": [
    {
     "name": "stdout",
     "output_type": "stream",
     "text": [
      "The resulting transformation base-end_effector is:\n",
      "  \u001b[38;5;1m 0.7003  \u001b[0m \u001b[38;5;1m-0.7068  \u001b[0m \u001b[38;5;1m 0.09983 \u001b[0m \u001b[38;5;4m 0.4737  \u001b[0m  \u001b[0m\n",
      "  \u001b[38;5;1m-0.7104  \u001b[0m \u001b[38;5;1m-0.7038  \u001b[0m \u001b[38;5;1m 0       \u001b[0m \u001b[38;5;4m 0       \u001b[0m  \u001b[0m\n",
      "  \u001b[38;5;1m 0.07027 \u001b[0m \u001b[38;5;1m-0.07092 \u001b[0m \u001b[38;5;1m-0.995   \u001b[0m \u001b[38;5;4m 0.5155  \u001b[0m  \u001b[0m\n",
      "  \u001b[38;5;244m 0       \u001b[0m \u001b[38;5;244m 0       \u001b[0m \u001b[38;5;244m 0       \u001b[0m \u001b[38;5;244m 1       \u001b[0m  \u001b[0m\n",
      "\n"
     ]
    }
   ],
   "source": [
    "# First we define the joint coordinates q, to calculate the forward kinematics at\n",
    "q = np.array([0, -0.3, 0, -2.2, 0, 2, 0.79]) # Units in radians\n",
    "\n",
    "# Allocate the resulting forward kinematics array\n",
    "fk = np.eye(4)\n",
    "\n",
    "# Let's loop over the ETs in the panda\n",
    "for et in panda:\n",
    "    if et.isjoint:\n",
    "        # This means ET is a variable joint\n",
    "        # We use the q array to specify the joint angle for the variable ET\n",
    "        fk = fk @ et.A(q[et.jindex])\n",
    "    else:\n",
    "        # This means ET is static\n",
    "        fk = fk @ et.A()\n",
    "\n",
    "# Print the result as a SE3 object to visualize better\n",
    "print(f\"The resulting transformation base-end_effector is:\\n{sm.SE3(fk)}\")"
   ]
  },
  {
   "cell_type": "markdown",
   "metadata": {},
   "source": [
    "The ETS class has the .fkine, which calculates the forward kinematics.\n",
    "The .fkine method returns a SE3 object"
   ]
  },
  {
   "cell_type": "code",
   "execution_count": 16,
   "metadata": {},
   "outputs": [
    {
     "name": "stdout",
     "output_type": "stream",
     "text": [
      "The fkine method: \n",
      "  \u001b[38;5;1m 0.7003  \u001b[0m \u001b[38;5;1m-0.7068  \u001b[0m \u001b[38;5;1m 0.09983 \u001b[0m \u001b[38;5;4m 0.4737  \u001b[0m  \u001b[0m\n",
      "  \u001b[38;5;1m-0.7104  \u001b[0m \u001b[38;5;1m-0.7038  \u001b[0m \u001b[38;5;1m 0       \u001b[0m \u001b[38;5;4m 0       \u001b[0m  \u001b[0m\n",
      "  \u001b[38;5;1m 0.07027 \u001b[0m \u001b[38;5;1m-0.07092 \u001b[0m \u001b[38;5;1m-0.995   \u001b[0m \u001b[38;5;4m 0.5155  \u001b[0m  \u001b[0m\n",
      "  \u001b[38;5;244m 0       \u001b[0m \u001b[38;5;244m 0       \u001b[0m \u001b[38;5;244m 0       \u001b[0m \u001b[38;5;244m 1       \u001b[0m  \u001b[0m\n",
      "\n"
     ]
    }
   ],
   "source": [
    "fkine = panda.fkine(q)\n",
    "print(f\"The fkine method: \\n{panda.fkine(q)}\")"
   ]
  },
  {
   "cell_type": "code",
   "execution_count": 17,
   "metadata": {},
   "outputs": [
    {
     "name": "stdout",
     "output_type": "stream",
     "text": [
      "Are both forward kinematics methods the same?: True\n"
     ]
    }
   ],
   "source": [
    "# Let's see if the loop method is the same as the fkine method (for the computer)\n",
    "# Dont forget to convert the array to SE3\n",
    "print(f\"Are both forward kinematics methods the same?: {sm.SE3(fk) == fkine}\")"
   ]
  },
  {
   "cell_type": "markdown",
   "metadata": {},
   "source": [
    "If you would like to have in return a numpy array, use the .eval method.\n"
   ]
  },
  {
   "cell_type": "code",
   "execution_count": 20,
   "metadata": {},
   "outputs": [
    {
     "name": "stdout",
     "output_type": "stream",
     "text": [
      "Are both forward kinematics methods the same?: \n",
      "[[ True  True False  True]\n",
      " [ True  True  True  True]\n",
      " [False False  True  True]\n",
      " [ True  True  True  True]]\n"
     ]
    }
   ],
   "source": [
    "evalm = panda.eval(q)\n",
    "\n",
    "# Check if fk and eval are the same\n",
    "print(f\"Are both forward kinematics methods the same?: \\n{fk == evalm}\")"
   ]
  },
  {
   "cell_type": "code",
   "execution_count": 19,
   "metadata": {},
   "outputs": [
    {
     "name": "stdout",
     "output_type": "stream",
     "text": [
      "Numpy array with a loop: \n",
      "[[ 7.00329021e-01 -7.06804465e-01  9.98334166e-02  4.73724040e-01]\n",
      " [-7.10353272e-01 -7.03845316e-01 -1.22464680e-16 -1.31037208e-17]\n",
      " [ 7.02672827e-02 -7.09169942e-02 -9.95004165e-01  5.15513206e-01]\n",
      " [ 0.00000000e+00  0.00000000e+00  0.00000000e+00  1.00000000e+00]]\n",
      "Numpy array with .eval method: \n",
      "[[ 7.00329021e-01 -7.06804465e-01  9.98334166e-02  4.73724040e-01]\n",
      " [-7.10353272e-01 -7.03845316e-01 -1.22464680e-16 -1.31037208e-17]\n",
      " [ 7.02672827e-02 -7.09169942e-02 -9.95004165e-01  5.15513206e-01]\n",
      " [ 0.00000000e+00  0.00000000e+00  0.00000000e+00  1.00000000e+00]]\n"
     ]
    }
   ],
   "source": [
    "# Lets print and understant why?\n",
    "print(f\"Numpy array with a loop: \\n{fk}\")\n",
    "print(f\"Numpy array with .eval method: \\n{evalm}\")"
   ]
  },
  {
   "cell_type": "code",
   "execution_count": null,
   "metadata": {},
   "outputs": [],
   "source": []
  }
 ],
 "metadata": {
  "kernelspec": {
   "display_name": "phd",
   "language": "python",
   "name": "python3"
  },
  "language_info": {
   "codemirror_mode": {
    "name": "ipython",
    "version": 3
   },
   "file_extension": ".py",
   "mimetype": "text/x-python",
   "name": "python",
   "nbconvert_exporter": "python",
   "pygments_lexer": "ipython3",
   "version": "3.11.5"
  }
 },
 "nbformat": 4,
 "nbformat_minor": 2
}
