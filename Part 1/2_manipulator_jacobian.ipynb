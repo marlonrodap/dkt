{
 "cells": [
  {
   "cell_type": "code",
   "execution_count": 1,
   "metadata": {},
   "outputs": [],
   "source": [
    "try:\n",
    "  # We must install required packages if we are in Google Colab\n",
    "  import google.colab\n",
    "  %pip install roboticstoolbox-python>=1.0.2\n",
    "except:\n",
    "  # We are not in Google Colab\n",
    "  # Apply custon style to notebook\n",
    "  from IPython.core.display import HTML\n",
    "  import pathlib\n",
    "  styles_path = pathlib.Path(pathlib.Path().absolute(), \"style\", \"style.css\")\n",
    "  styles = open(styles_path, \"r\").read()\n",
    "  HTML(f\"<style>{styles}</style>\")"
   ]
  },
  {
   "cell_type": "markdown",
   "metadata": {},
   "source": [
    "# The Manipulator Jacobian"
   ]
  },
  {
   "cell_type": "code",
   "execution_count": 2,
   "metadata": {},
   "outputs": [],
   "source": [
    "# Import libraries\n",
    "# We will do the imports required for this notebook here\n",
    "\n",
    "# numpy provides import array and linear algebra utilities\n",
    "import numpy as np\n",
    "\n",
    "# the robotics toolbox provides robotics specific functionality\n",
    "import roboticstoolbox as rtb\n",
    "\n",
    "# spatial math provides objects for representing transformations\n",
    "import spatialmath as sm\n",
    "import spatialmath.base as smb\n",
    "\n",
    "# use timeit to benchmark some methods\n",
    "from timeit import default_timer as timer\n",
    "\n",
    "# ansitable is a great package for printing tables in a terminal\n",
    "from ansitable import ANSITable"
   ]
  },
  {
   "cell_type": "markdown",
   "metadata": {},
   "source": [
    "## Utility Functions"
   ]
  },
  {
   "cell_type": "code",
   "execution_count": 6,
   "metadata": {},
   "outputs": [],
   "source": [
    "# We can program these in Python\n",
    "# These methods assume the inputs are correctly sized and numpy arrays\n",
    "\n",
    "def vex(mat):\n",
    "    '''\n",
    "    Converts a 3x3 skew symmetric matric to a 3 vector\n",
    "    '''\n",
    "    return np.array([mat[2, 1], mat[0, 2], mat[1, 0]])\n",
    "\n",
    "def skew(vec):\n",
    "    '''\n",
    "    Converts a 3 vector to a 3x3 skew symmetric matrix\n",
    "    '''\n",
    "\n",
    "    return np.array([\n",
    "        [0, -vec[2], vec[1]],\n",
    "        [vec[2], 0, -vec[0]],\n",
    "        [-vec[1], vec[0], 0]\n",
    "    ])\n",
    "\n",
    "def vexa(mat):\n",
    "    '''\n",
    "    Converts a 4x4 augmented skew symmetric matric to a 6 vector\n",
    "    '''\n",
    "\n",
    "    return np.array([mat[0, 3], mat[1, 3], mat[2, 3], mat[2, 1], mat[0, 2], mat[1, 0]])\n",
    "\n",
    "def skewa(vec):\n",
    "    '''\n",
    "    Converts a 6 vector to a 4x4 augmented skew symmetric matrix\n",
    "    '''\n",
    "\n",
    "    return np.array([\n",
    "        [0, -vec[5], vec[4], vec[0]],\n",
    "        [vec[5], 0, -vec[3], vec[1]],\n",
    "        [-vec[4], vec[3], 0, vec[2]],\n",
    "        [0, 0, 0, 0]\n",
    "    ])"
   ]
  },
  {
   "cell_type": "code",
   "execution_count": 7,
   "metadata": {},
   "outputs": [
    {
     "name": "stdout",
     "output_type": "stream",
     "text": [
      "x: \n",
      "[1 2 3]\n",
      "skew form of x: \n",
      "[[ 0 -3  2]\n",
      " [ 3  0 -1]\n",
      " [-2  1  0]]\n",
      "Perform vex operation on that, we should get the original a vector back: \n",
      "[1 2 3]\n"
     ]
    }
   ],
   "source": [
    "# Test our skew and vex methods out\n",
    "\n",
    "x = np.array([1, 2, 3])\n",
    "\n",
    "sk_x = skew(x)\n",
    "\n",
    "print(f\"x: \\n{x}\")\n",
    "print(f\"skew form of x: \\n{sk_x}\")\n",
    "print(f\"Perform vex operation on that, we should get the original a vector back: \\n{vex(sk_x)}\")"
   ]
  },
  {
   "cell_type": "code",
   "execution_count": 8,
   "metadata": {},
   "outputs": [
    {
     "name": "stdout",
     "output_type": "stream",
     "text": [
      "y: \n",
      "[1 2 3 4 5 6]\n",
      "augmented skew form of y: \n",
      "[[ 0 -6  5  1]\n",
      " [ 6  0 -4  2]\n",
      " [-5  4  0  3]\n",
      " [ 0  0  0  0]]\n",
      "Perform vexa operation on that, we should get the original y vector back: \n",
      "[1 2 3 4 5 6]\n"
     ]
    }
   ],
   "source": [
    "y = np.array([1, 2, 3, 4, 5, 6])\n",
    "\n",
    "ska_y = skewa(y)\n",
    "\n",
    "print(f\"y: \\n{y}\")\n",
    "print(f\"augmented skew form of y: \\n{ska_y}\")\n",
    "print(f\"Perform vexa operation on that, we should get the original y vector back: \\n{vexa(ska_y)}\")"
   ]
  },
  {
   "cell_type": "markdown",
   "metadata": {},
   "source": [
    "\n",
    "We also need a function to extract the translational or rotational component from an $\\bf{SE}(3)$ or augmented skew-symmetric matrix\n",
    "\n",
    "<br>\n",
    "\n",
    "<br>\n",
    "\n",
    "<img src=\"img/transform_dark.png\" alt=\"drawing\" width=\"700\"/>\n",
    "\n",
    "\n",
    "_Visualisation of a homogeneous transformation matrix (the derivatives share the form of $\\ \\bf{T}$, except will have a 0 instead of a 1 located at $\\bf{T}_{44}$). Where the matrix $\\rho(\\bf{T}) \\in \\mathbb{R}^{3 \\times 3}$ of green boxes forms the rotation component, and the vector $\\tau(\\bf{T}) \\in \\mathbb{R}^{3}$ of blue boxes form the translation component. The rotation component can be extracted through the function $\\rho(\\cdot) : \\mathbb{R}^{4\\times 4} \\mapsto  \\mathbb{R}^{3\\times 3}$, while the translation component can be extracted through the function $\\tau(\\cdot) : \\mathbb{R}^{4\\times 4} \\mapsto  \\mathbb{R}^{3}$._\n"
   ]
  },
  {
   "cell_type": "code",
   "execution_count": 10,
   "metadata": {},
   "outputs": [],
   "source": [
    "def ρ(tf):\n",
    "    '''\n",
    "    The method extracts the rotational component from an SE3\n",
    "    '''\n",
    "    return tf[:3, :3]\n",
    "\n",
    "def τ(tf): \n",
    "    '''\n",
    "    The method extracts the translation component from an SE3\n",
    "    '''\n",
    "    return tf[:3, 3]"
   ]
  },
  {
   "cell_type": "code",
   "execution_count": 12,
   "metadata": {},
   "outputs": [
    {
     "name": "stdout",
     "output_type": "stream",
     "text": [
      "[[ 0 -6  5]\n",
      " [ 6  0 -4]\n",
      " [-5  4  0]]\n",
      "[1 2 3]\n"
     ]
    }
   ],
   "source": [
    "print(ρ(ska_y))\n",
    "print(τ(ska_y))"
   ]
  },
  {
   "cell_type": "markdown",
   "metadata": {},
   "source": [
    "## Derivation of a Pure Rotation"
   ]
  },
  {
   "cell_type": "code",
   "execution_count": 13,
   "metadata": {},
   "outputs": [],
   "source": [
    "# We can make Python functions which perform these derivatives\n",
    "\n",
    "def dTRx(θ, flip):\n",
    "    '''\n",
    "    Calculates the derivative of an SE3 which is a pure rotation around\n",
    "    the x-axis by amount θ\n",
    "    '''\n",
    "    # This is the [Rhat_x] matrix in the maths above\n",
    "    Rhx = np.array([\n",
    "        [0, 0, 0, 0],\n",
    "        [0, 0, -1, 0],\n",
    "        [0, 1, 0, 0],\n",
    "        [0, 0, 0, 0]\n",
    "    ])\n",
    "\n",
    "    # This is the T_R_x matrix in the maths above\n",
    "    Trx = smb.trotx(θ)\n",
    "\n",
    "    if flip:\n",
    "        return Rhx.T @ Trx.T\n",
    "    else:\n",
    "        return Rhx @ Trx\n",
    "\n",
    "def dTRy(θ, flip):\n",
    "    '''\n",
    "    Calculates the derivative of an SE3 which is a pure rotation around\n",
    "    the y-axis by amount θ\n",
    "    '''\n",
    "    # This is the [Rhat_y] matrix in the maths above\n",
    "    Rhy = np.array([\n",
    "        [0, 0, 1, 0],\n",
    "        [0, 0, 0, 0],\n",
    "        [-1, 0, 0, 0],\n",
    "        [0, 0, 0, 0]\n",
    "    ])\n",
    "\n",
    "    # This is the T_R_y matrix in the maths above\n",
    "    Try = smb.troty(θ)\n",
    "\n",
    "    if flip:\n",
    "        return Rhy.T @ Try.T\n",
    "    else:\n",
    "        return Rhy @ Try\n",
    "\n",
    "def dTRz(θ, flip):\n",
    "    '''\n",
    "    Calculates the derivative of an SE3 which is a pure rotation around\n",
    "    the z-axis by amount θ\n",
    "    '''\n",
    "    # This is the [Rhat_z] matrix in the maths above\n",
    "    Rhz = np.array([\n",
    "        [0, -1, 0, 0],\n",
    "        [1, 0, 0, 0],\n",
    "        [0, 0, 0, 0],\n",
    "        [0, 0, 0, 0]\n",
    "    ])\n",
    "\n",
    "    # This is the T_R_z matrix in the maths above\n",
    "    Trz = smb.trotz(θ)\n",
    "\n",
    "    if flip:\n",
    "        return Rhz.T @ Trz.T\n",
    "    else:\n",
    "        return Rhz @ Trz\n"
   ]
  },
  {
   "cell_type": "code",
   "execution_count": null,
   "metadata": {},
   "outputs": [],
   "source": []
  },
  {
   "cell_type": "code",
   "execution_count": null,
   "metadata": {},
   "outputs": [],
   "source": []
  },
  {
   "cell_type": "code",
   "execution_count": null,
   "metadata": {},
   "outputs": [],
   "source": []
  },
  {
   "cell_type": "code",
   "execution_count": null,
   "metadata": {},
   "outputs": [],
   "source": []
  },
  {
   "cell_type": "code",
   "execution_count": null,
   "metadata": {},
   "outputs": [],
   "source": []
  },
  {
   "cell_type": "code",
   "execution_count": null,
   "metadata": {},
   "outputs": [],
   "source": []
  },
  {
   "cell_type": "code",
   "execution_count": null,
   "metadata": {},
   "outputs": [],
   "source": []
  },
  {
   "cell_type": "code",
   "execution_count": null,
   "metadata": {},
   "outputs": [],
   "source": []
  },
  {
   "cell_type": "code",
   "execution_count": null,
   "metadata": {},
   "outputs": [],
   "source": []
  },
  {
   "cell_type": "code",
   "execution_count": null,
   "metadata": {},
   "outputs": [],
   "source": []
  },
  {
   "cell_type": "code",
   "execution_count": null,
   "metadata": {},
   "outputs": [],
   "source": []
  },
  {
   "cell_type": "code",
   "execution_count": null,
   "metadata": {},
   "outputs": [],
   "source": []
  }
 ],
 "metadata": {
  "kernelspec": {
   "display_name": "phd",
   "language": "python",
   "name": "python3"
  },
  "language_info": {
   "codemirror_mode": {
    "name": "ipython",
    "version": 3
   },
   "file_extension": ".py",
   "mimetype": "text/x-python",
   "name": "python",
   "nbconvert_exporter": "python",
   "pygments_lexer": "ipython3",
   "version": "3.11.5"
  }
 },
 "nbformat": 4,
 "nbformat_minor": 2
}
